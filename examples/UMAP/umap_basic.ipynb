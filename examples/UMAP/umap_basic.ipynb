{
 "metadata": {
  "language_info": {
   "codemirror_mode": {
    "name": "ipython",
    "version": 3
   },
   "file_extension": ".py",
   "mimetype": "text/x-python",
   "name": "python",
   "nbconvert_exporter": "python",
   "pygments_lexer": "ipython3",
   "version": "3.8.5-final"
  },
  "orig_nbformat": 2,
  "kernelspec": {
   "name": "python3",
   "display_name": "Python 3",
   "language": "python"
  }
 },
 "nbformat": 4,
 "nbformat_minor": 2,
 "cells": [
  {
   "source": [
    "# How to Use UMAP\n",
    "\n",
    "This Jupyter Notebook tutorial has been converted from the original, found [here](https://umap-learn.readthedocs.io/en/latest/basic_usage.html).\n",
    "\n",
    "UMAP is a general purpose manifold learning and dimension reduction\n",
    "algorithm. It is designed to be compatible with\n",
    "`scikit-learn <http://scikit-learn.org/stable/index.html>`__, making use\n",
    "of the same API and able to be added to sklearn pipelines. If you are\n",
    "already familiar with sklearn you should be able to use UMAP as a drop\n",
    "in replacement for t-SNE and other dimension reduction classes. If you\n",
    "are not so familiar with sklearn this tutorial will step you through the\n",
    "basics of using UMAP to transform and visualise data.\n",
    "\n",
    "First we'll need to import a bunch of useful tools. We will need numpy\n",
    "obviously, but we'll use some of the datasets available in sklearn, as\n",
    "well as the ``train_test_split`` function to divide up data. Finally\n",
    "we'll need some plotting tools (matplotlib and seaborn) to help us\n",
    "visualise the results of UMAP, and pandas to make that a little easier."
   ],
   "cell_type": "markdown",
   "metadata": {}
  },
  {
   "cell_type": "code",
   "execution_count": null,
   "metadata": {},
   "outputs": [],
   "source": [
    "import numpy as np\n",
    "from sklearn.datasets import load_digits\n",
    "from sklearn.model_selection import train_test_split\n",
    "from sklearn.preprocessing import StandardScaler\n",
    "import matplotlib.pyplot as plt\n",
    "import seaborn as sns\n",
    "import pandas as pd\n",
    "%matplotlib inline"
   ]
  },
  {
   "cell_type": "code",
   "execution_count": null,
   "metadata": {},
   "outputs": [],
   "source": [
    "sns.set(style='white', context='notebook', rc={'figure.figsize':(14,10)})"
   ]
  },
  {
   "source": [
    "Penguin data\n",
    "------------\n",
    "\n",
    "<img src=\"https://github.com/allisonhorst/palmerpenguins/raw/master/man/figures/lter_penguins.png\" alt=\"Penguins\" style=\"width: 400px;\" align=\"center\"/>\n",
    "\n",
    "The next step is to get some data to work with. To ease us into things\n",
    "we'll start with the `penguin\n",
    "dataset <https://github.com/allisonhorst/penguins>`. It isn't very\n",
    "representative of what real data would look like, but it is small both\n",
    "in number of points and number of features, and will let us get an idea\n",
    "of what the dimension reduction is doing."
   ],
   "cell_type": "markdown",
   "metadata": {}
  },
  {
   "cell_type": "code",
   "execution_count": null,
   "metadata": {},
   "outputs": [],
   "source": [
    "penguins = pd.read_csv(\"https://github.com/allisonhorst/palmerpenguins/raw/5b5891f01b52ae26ad8cb9755ec93672f49328a8/data/penguins_size.csv\")\n",
    "penguins.head()"
   ]
  },
  {
   "source": [
    "Since this is for demonstration purposes we will get rid of the NaNs in\n",
    "the data; in a real world setting one would wish to take more care with\n",
    "proper handling of missing data."
   ],
   "cell_type": "markdown",
   "metadata": {}
  },
  {
   "cell_type": "code",
   "execution_count": null,
   "metadata": {},
   "outputs": [],
   "source": [
    "penguins = penguins.dropna()\n",
    "penguins.species_short.value_counts()"
   ]
  },
  {
   "source": [
    "<img src=\"https://github.com/allisonhorst/palmerpenguins/raw/master/man/figures/culmen_depth.png\" alt=\"Diagram of culmen measurements on a penguin\" style=\"width: 400px;\" align=\"center\"/>\n",
    "\n",
    "See the `github repostiory <https://github.com/allisonhorst/penguins>`__\n",
    "for more details about the dataset itself. It consists of measurements\n",
    "of bill (culmen) and flippers and weights of three species of penguins,\n",
    "along with some other metadata about the penguins. In total we have 334\n",
    "different penguins measured. Visualizing this data is a little bit\n",
    "tricky since we can't plot in 4 dimensions easily. Fortunately four is\n",
    "not that large a number, so we can just to a pairwise feature\n",
    "scatterplot matrix to get an ideas of what is going on. Seaborn makes\n",
    "this easy."
   ],
   "cell_type": "markdown",
   "metadata": {}
  },
  {
   "cell_type": "code",
   "execution_count": null,
   "metadata": {},
   "outputs": [],
   "source": [
    "sns.pairplot(penguins, hue='species_short')"
   ]
  },
  {
   "source": [
    "This gives us some idea of what the data looks like by giving us all the\n",
    "2D views of the data. Four dimensions is low enough that we can (sort\n",
    "of) reconstruct what the full dimensional data looks like in our heads.\n",
    "Now that we sort of know what we are looking at, the question is what\n",
    "can a dimension reduction technique like UMAP do for us? By reducing the\n",
    "dimension in a way that preserves as much of the structure of the data\n",
    "as possible we can get a visualisable representation of the data\n",
    "allowing us to \"see\" the data and its structure and begin to get some\n",
    "intuition about the data itself.\n",
    "\n",
    "To use UMAP for this task we need to first construct a UMAP object that\n",
    "will do the job for us. That is as simple as instantiating the class. So\n",
    "let's import the umap library and do that."
   ],
   "cell_type": "markdown",
   "metadata": {}
  },
  {
   "cell_type": "code",
   "execution_count": null,
   "metadata": {},
   "outputs": [],
   "source": [
    "import umap"
   ]
  },
  {
   "cell_type": "code",
   "execution_count": null,
   "metadata": {},
   "outputs": [],
   "source": [
    "reducer = umap.UMAP()"
   ]
  },
  {
   "source": [
    "Before we can do any work with the data it will help to clean up it a\n",
    "little. We won't need NaNs, we just want the measurement columns, and\n",
    "since the measurements are on entirely different scales it will be\n",
    "helpful to convert each feature into z-scores (number of standard\n",
    "deviations from the mean) for comparability."
   ],
   "cell_type": "markdown",
   "metadata": {}
  },
  {
   "cell_type": "code",
   "execution_count": null,
   "metadata": {},
   "outputs": [],
   "source": [
    "penguin_data = penguins[[\n",
    "        \"culmen_length_mm\",\n",
    "        \"culmen_depth_mm\",\n",
    "        \"flipper_length_mm\",\n",
    "        \"body_mass_g\",\n",
    "    ]].values\n",
    "scaled_penguin_data = StandardScaler().fit_transform(penguin_data)"
   ]
  },
  {
   "source": [
    "Now we need to train our reducer, letting it learn about the manifold.\n",
    "For this UMAP follows the sklearn API and has a method ``fit`` which we\n",
    "pass the data we want the model to learn from. Since, at the end of the\n",
    "day, we are going to want to reduced representation of the data we will\n",
    "use, instead, the ``fit_transform`` method which first calls ``fit`` and\n",
    "then returns the transformed data as a numpy array."
   ],
   "cell_type": "markdown",
   "metadata": {}
  },
  {
   "cell_type": "code",
   "execution_count": null,
   "metadata": {},
   "outputs": [],
   "source": [
    "embedding = reducer.fit_transform(scaled_penguin_data)\n",
    "embedding.shape"
   ]
  },
  {
   "source": [
    "The result is an array with 334 samples, but only two feature columns\n",
    "(instead of the four we started with). This is because, by default, UMAP\n",
    "reduces down to 2D. Each row of the array is a 2-dimensional\n",
    "representation of the corresponding penguin. Thus we can plot the\n",
    "``embedding`` as a standard scatterplot and color by the target array\n",
    "(since it applies to the transformed data which is in the same order as\n",
    "the original)."
   ],
   "cell_type": "markdown",
   "metadata": {}
  },
  {
   "cell_type": "code",
   "execution_count": null,
   "metadata": {},
   "outputs": [],
   "source": [
    "plt.scatter(\n",
    "    embedding[:, 0],\n",
    "    embedding[:, 1],\n",
    "    c=[sns.color_palette()[x] for x in penguins.species_short.map({\"Adelie\":0, \"Chinstrap\":1, \"Gentoo\":2})])\n",
    "plt.gca().set_aspect('equal', 'datalim')\n",
    "plt.title('UMAP projection of the Penguin dataset', fontsize=24)"
   ]
  },
  {
   "source": [
    "This does a useful job of capturing the structure of the data, and as\n",
    "can be seen from the matrix of scatterplots this is relatively accurate.\n",
    "Of course we learned at least this much just from that matrix of\n",
    "scatterplots -- which we could do since we only had four different\n",
    "dimensions to analyse. If we had data with a larger number of dimensions\n",
    "the scatterplot matrix would quickly become unwieldy to plot, and far\n",
    "harder to interpret. So moving on from the Penguin dataset, let's consider\n",
    "the digits dataset."
   ],
   "cell_type": "markdown",
   "metadata": {}
  },
  {
   "source": [
    "Digits data\n",
    "-----------\n",
    "\n",
    "First we will load the dataset from sklearn."
   ],
   "cell_type": "markdown",
   "metadata": {}
  },
  {
   "cell_type": "code",
   "execution_count": null,
   "metadata": {},
   "outputs": [],
   "source": [
    "digits = load_digits()\n",
    "print(digits.DESCR)"
   ]
  },
  {
   "source": [
    "We can plot a number of the images to get an idea of what we are looking\n",
    "at. This just involves matplotlib building a grid of axes and then\n",
    "looping through them plotting an image into each one in turn."
   ],
   "cell_type": "markdown",
   "metadata": {}
  },
  {
   "cell_type": "code",
   "execution_count": null,
   "metadata": {},
   "outputs": [],
   "source": [
    "fig, ax_array = plt.subplots(20, 20)\n",
    "axes = ax_array.flatten()\n",
    "for i, ax in enumerate(axes):\n",
    "    ax.imshow(digits.images[i], cmap='gray_r')\n",
    "plt.setp(axes, xticks=[], yticks=[], frame_on=False)\n",
    "plt.tight_layout(h_pad=0.5, w_pad=0.01)"
   ]
  },
  {
   "source": [
    "As you can see these are quite low resolution images -- for the most\n",
    "part they are recognisable as digits, but there are a number of cases\n",
    "that are sufficiently blurred as to be questionable even for a human to\n",
    "guess at. The zeros do stand out as the easiest to pick out as notably\n",
    "different and clearly zeros. Beyond that things get a little harder:\n",
    "some of the squashed thing eights look awfully like ones, some of the\n",
    "threes start to look a little like crossed sevens when drawn badly, and\n",
    "so on.\n",
    "\n",
    "Each image can be unfolded into a 64 element long vector of grayscale\n",
    "values. It is these 64 dimensional vectors that we wish to analyse: how\n",
    "much of the digits structure can we discern? At least in principle 64\n",
    "dimensions is overkill for this task, and we would reasonably expect\n",
    "that there should be some smaller number of \"latent\" features that would\n",
    "be sufficient to describe the data reasonably well. We can try a\n",
    "scatterplot matrix -- in this case just of the first 10 dimensions so\n",
    "that it is at least plottable, but as you can quickly see that approach\n",
    "is not going to be sufficient for this data."
   ],
   "cell_type": "markdown",
   "metadata": {}
  },
  {
   "cell_type": "code",
   "execution_count": null,
   "metadata": {},
   "outputs": [],
   "source": [
    "digits_df = pd.DataFrame(digits.data[:,1:11])\n",
    "digits_df['digit'] = pd.Series(digits.target).map(lambda x: 'Digit {}'.format(x))\n",
    "sns.pairplot(digits_df, hue='digit', palette='Spectral')"
   ]
  },
  {
   "source": [
    "In contrast we can try using UMAP again. It works exactly as before:\n",
    "construct a model, train the model, and then look at the transformed\n",
    "data. To demonstrate more of UMAP we'll go about it differently this\n",
    "time and simply use the ``fit`` method rather than the ``fit_transform``\n",
    "approach we used for Penguins."
   ],
   "cell_type": "markdown",
   "metadata": {}
  },
  {
   "cell_type": "code",
   "execution_count": null,
   "metadata": {},
   "outputs": [],
   "source": [
    "reducer = umap.UMAP(a=None, angular_rp_forest=False, b=None,\n",
    "     force_approximation_algorithm=False, init='spectral', learning_rate=1.0,\n",
    "     local_connectivity=1.0, low_memory=False, metric='euclidean',\n",
    "     metric_kwds=None, min_dist=0.1, n_components=2, n_epochs=None,\n",
    "     n_neighbors=15, negative_sample_rate=5, output_metric='euclidean',\n",
    "     output_metric_kwds=None, random_state=42, repulsion_strength=1.0,\n",
    "     set_op_mix_ratio=1.0, spread=1.0, target_metric='categorical',\n",
    "     target_metric_kwds=None, target_n_neighbors=-1, target_weight=0.5,\n",
    "     transform_queue_size=4.0, transform_seed=42, unique=False, verbose=False)\n",
    "reducer.fit(digits.data)"
   ]
  },
  {
   "source": [
    "Now, instead of returning an embedding we simply get back the reducer\n",
    "object, now having trained on the dataset we passed it. To access the\n",
    "resulting transform we can either look at the ``embedding_`` attribute\n",
    "of the reducer object, or call transform on the original data."
   ],
   "cell_type": "markdown",
   "metadata": {}
  },
  {
   "cell_type": "code",
   "execution_count": null,
   "metadata": {},
   "outputs": [],
   "source": [
    "embedding = reducer.transform(digits.data)\n",
    "# Verify that the result of calling transform is\n",
    "# idenitical to accessing the embedding_ attribute\n",
    "assert(np.all(embedding == reducer.embedding_))\n",
    "embedding.shape"
   ]
  },
  {
   "source": [
    "We now have a dataset with 1797 rows (one for each hand-written digit\n",
    "sample), but only 2 columns. As with the Penguins example we can now plot\n",
    "the resulting embedding, coloring the data points by the class that\n",
    "they belong to (i.e. the digit they represent)."
   ],
   "cell_type": "markdown",
   "metadata": {}
  },
  {
   "cell_type": "code",
   "execution_count": null,
   "metadata": {},
   "outputs": [],
   "source": [
    "plt.scatter(embedding[:, 0], embedding[:, 1], c=digits.target, cmap='Spectral', s=10)\n",
    "plt.gca().set_aspect('equal', 'datalim')\n",
    "plt.colorbar(boundaries=np.arange(11)-0.5).set_ticks(np.arange(10))\n",
    "plt.title('UMAP projection of the Digits dataset', fontsize=24);"
   ]
  },
  {
   "source": [
    "We see that UMAP has successfully captured the digit classes. There are\n",
    "also some interesting effects as some digit classes blend into one\n",
    "another (see the eights, ones, and sevens, with some nines in between),\n",
    "and also cases where digits are pushed away as clearly distinct (the\n",
    "zeros on the right, the fours at the top, and a small subcluster of ones\n",
    "at the bottom come to mind). To get a better idea of why UMAP chose to\n",
    "do this it is helpful to see the actual digits involve. One can do this\n",
    "using [bokeh](https://bokeh.pydata.org/en/latest/) and mouseover\n",
    "tooltips of the images.\n",
    "\n",
    "First we'll need to encode all the images for inclusion in a dataframe."
   ],
   "cell_type": "markdown",
   "metadata": {}
  },
  {
   "cell_type": "code",
   "execution_count": null,
   "metadata": {},
   "outputs": [],
   "source": [
    "from io import BytesIO\n",
    "from PIL import Image\n",
    "import base64"
   ]
  },
  {
   "cell_type": "code",
   "execution_count": null,
   "metadata": {},
   "outputs": [],
   "source": [
    "def embeddable_image(data):\n",
    "    img_data = 255 - 15 * data.astype(np.uint8)\n",
    "    image = Image.fromarray(img_data, mode='L').resize((64, 64), Image.BICUBIC)\n",
    "    buffer = BytesIO()\n",
    "    image.save(buffer, format='png')\n",
    "    for_encoding = buffer.getvalue()\n",
    "    return 'data:image/png;base64,' + base64.b64encode(for_encoding).decode()"
   ]
  },
  {
   "source": [
    "Next we need to load up bokeh and the various tools from it that will be\n",
    "needed to generate a suitable interactive plot."
   ],
   "cell_type": "markdown",
   "metadata": {}
  },
  {
   "cell_type": "code",
   "execution_count": null,
   "metadata": {},
   "outputs": [],
   "source": [
    "from bokeh.plotting import figure, show, output_notebook\n",
    "from bokeh.models import HoverTool, ColumnDataSource, CategoricalColorMapper\n",
    "from bokeh.palettes import Spectral10\n",
    "\n",
    "output_notebook()"
   ]
  },
  {
   "source": [
    "Finally we generate the plot itself with a custom hover tooltip that\n",
    "embeds the image of the digit in question in it, along with the digit\n",
    "class that the digit is actually from (this can be useful for digits\n",
    "that are hard even for humans to classify correctly)."
   ],
   "cell_type": "markdown",
   "metadata": {}
  },
  {
   "cell_type": "code",
   "execution_count": null,
   "metadata": {},
   "outputs": [],
   "source": [
    "digits_df = pd.DataFrame(embedding, columns=('x', 'y'))\n",
    "digits_df['digit'] = [str(x) for x in digits.target]\n",
    "digits_df['image'] = list(map(embeddable_image, digits.images))\n",
    "\n",
    "datasource = ColumnDataSource(digits_df)\n",
    "color_mapping = CategoricalColorMapper(factors=[str(9 - x) for x in digits.target_names],\n",
    "                                       palette=Spectral10)\n",
    "\n",
    "plot_figure = figure(\n",
    "    title='UMAP projection of the Digits dataset',\n",
    "    plot_width=600,\n",
    "    plot_height=600,\n",
    "    tools=('pan, wheel_zoom, reset')\n",
    ")\n",
    "\n",
    "plot_figure.add_tools(HoverTool(tooltips=\"\"\"\n",
    "<div>\n",
    "    <div>\n",
    "        <img src='@image' style='float: left; margin: 5px 5px 5px 5px'/>\n",
    "    </div>\n",
    "    <div>\n",
    "        <span style='font-size: 16px; color: #224499'>Digit:</span>\n",
    "        <span style='font-size: 18px'>@digit</span>\n",
    "    </div>\n",
    "</div>\n",
    "\"\"\"))\n",
    "\n",
    "plot_figure.circle(\n",
    "    'x',\n",
    "    'y',\n",
    "    source=datasource,\n",
    "    color=dict(field='digit', transform=color_mapping),\n",
    "    line_alpha=0.6,\n",
    "    fill_alpha=0.6,\n",
    "    size=4\n",
    ")\n",
    "show(plot_figure)"
   ]
  },
  {
   "source": [
    "As can be seen, the nines that blend between the ones and the sevens are\n",
    "odd looking nines (that aren't very rounded) and do, indeed, interpolate\n",
    "surprisingly well between ones with hats and crossed sevens. In contrast\n",
    "the small disjoint cluster of ones at the bottom of the plot is made up\n",
    "of ones with feet (a horizontal line at the base of the one) which are,\n",
    "indeed, quite distinct from the general mass of ones.\n",
    "\n",
    "This concludes our introduction to basic UMAP usage -- hopefully this\n",
    "has given you the tools to get started for yourself. Further tutorials,\n",
    "covering UMAP parameters and more advanced usage are also available when\n",
    "you wish to dive deeper."
   ],
   "cell_type": "markdown",
   "metadata": {}
  }
 ]
}